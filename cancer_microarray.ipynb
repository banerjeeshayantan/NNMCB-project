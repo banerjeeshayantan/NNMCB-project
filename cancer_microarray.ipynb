{
 "cells": [
  {
   "cell_type": "code",
   "execution_count": 74,
   "metadata": {},
   "outputs": [],
   "source": [
    "# import warnings filter\n",
    "from warnings import simplefilter\n",
    "# ignore all future warnings\n",
    "simplefilter(action='ignore', category=FutureWarning)"
   ]
  },
  {
   "cell_type": "code",
   "execution_count": 68,
   "metadata": {},
   "outputs": [],
   "source": [
    "import pandas as pd\n",
    "from sklearn.preprocessing import Imputer\n",
    "import numpy as np\n",
    "from sklearn.ensemble import RandomForestClassifier\n",
    "from sklearn.model_selection import GridSearchCV\n",
    "from sklearn.model_selection import train_test_split\n",
    "from sklearn.metrics import accuracy_score\n",
    "import matplotlib.pyplot as plt\n",
    "from sklearn.feature_selection import SelectFromModel\n",
    "from sklearn.ensemble import ExtraTreesClassifier\n",
    "from sklearn.ensemble import GradientBoostingClassifier\n",
    "from sklearn.ensemble import AdaBoostClassifier\n",
    "from sklearn.tree import DecisionTreeClassifier\n",
    "from sklearn.linear_model import LogisticRegression\n",
    "from sklearn.naive_bayes import MultinomialNB\n",
    "from sklearn.naive_bayes import GaussianNB\n",
    "from sklearn.svm import LinearSVC, SVC\n",
    "from sklearn.neighbors import KNeighborsClassifier\n",
    "from sklearn.model_selection import cross_val_score\n",
    "from sklearn.model_selection import cross_validate\n",
    "from sklearn.model_selection import GridSearchCV\n",
    "from sklearn.ensemble import RandomForestClassifier, VotingClassifier\n",
    "from sklearn import preprocessing\n",
    "from sklearn.preprocessing import MinMaxScaler\n",
    "import pickle\n",
    "from sklearn.metrics import confusion_matrix\n",
    "from sklearn.utils import resample\n",
    "from imblearn.over_sampling import SMOTE\n",
    "from sklearn.metrics import classification_report\n",
    "from sklearn import metrics\n",
    "from sklearn.metrics import roc_curve, auc\n",
    "from sklearn.metrics import roc_auc_score\n",
    "from sklearn.model_selection import cross_val_predict\n",
    "from sklearn.model_selection import StratifiedKFold\n",
    "import numpy as np\n",
    "from sklearn.ensemble import RandomForestClassifier\n",
    "from sklearn import datasets\n",
    "from sklearn.model_selection import train_test_split\n",
    "from sklearn.feature_selection import SelectFromModel\n",
    "from sklearn.metrics import accuracy_score\n",
    "from sklearn.feature_selection import RFECV\n",
    "from sklearn.discriminant_analysis import LinearDiscriminantAnalysis\n",
    "from sklearn.discriminant_analysis import QuadraticDiscriminantAnalysis\n",
    "import scipy.stats as ss\n",
    "import itertools\n",
    "from sklearn.metrics import fbeta_score, make_scorer\n",
    "from sklearn.manifold import TSNE\n",
    "from sklearn.multiclass import OneVsRestClassifier\n",
    "from sklearn.model_selection import LeaveOneOut\n",
    "import mifs\n",
    "from sklearn.preprocessing import StandardScaler\n",
    "from sklearn.model_selection import KFold\n",
    "import scipy\n",
    "import numpy as np, scipy.stats as st\n",
    "from sklearn.model_selection import RepeatedStratifiedKFold\n",
    "from sklearn.neural_network import MLPClassifier\n",
    "from scipy import interp\n",
    "from collections import Counter\n",
    "import mifs"
   ]
  },
  {
   "cell_type": "code",
   "execution_count": 34,
   "metadata": {},
   "outputs": [
    {
     "data": {
      "text/plain": [
       "0    111\n",
       "1     57\n",
       "Name: V1, dtype: int64"
      ]
     },
     "execution_count": 34,
     "metadata": {},
     "output_type": "execute_result"
    }
   ],
   "source": [
    "#importing data and processing labels for further analysis\n",
    "gravier=pd.read_csv('gravier_inputs.csv',header=None)\n",
    "gravier_labels=pd.read_csv('gravier_outputs.csv')\n",
    "gravier_labels['V1']=gravier_labels['V1'].astype('category').cat.codes\n",
    "gravier_labels['V1'].value_counts()"
   ]
  },
  {
   "cell_type": "markdown",
   "metadata": {},
   "source": [
    "## Selecting features using L1 regularized logistic regression"
   ]
  },
  {
   "cell_type": "code",
   "execution_count": 84,
   "metadata": {},
   "outputs": [],
   "source": [
    "def LASSO(data,labels):\n",
    "    X_train, X_test, y_train, y_test = train_test_split(\n",
    "    data, labels,\n",
    "    test_size=0.3,\n",
    "    random_state=0,stratify=labels)\n",
    "    scaler = StandardScaler()\n",
    "    scaler.fit(X_train.fillna(0))\n",
    "    sel_ = SelectFromModel(LogisticRegression(C=1, penalty='l1'))\n",
    "    sel_.fit(scaler.transform(X_train.fillna(0)), y_train)\n",
    "    selected_feat = X_train.columns[(sel_.get_support())]\n",
    "    print('total features: {}'.format((X_train.shape[1])))\n",
    "    print('selected features: {}'.format(len(selected_feat)))\n",
    "    print('features with coefficients shrank to zero: {}'.format(\n",
    "    np.sum(sel_.estimator_.coef_ == 0)))\n",
    "    X_train_reduced=X_train[selected_feat]\n",
    "    print(X_train_reduced.shape)\n",
    "    sm = SMOTE(random_state=2)\n",
    "    X_train_sm, y_train_sm = sm.fit_sample(X_train_reduced, y_train)\n",
    "    SVM=SVC(kernel=\"linear\")\n",
    "    tuned_parameters = [{'kernel': ['linear'], 'C': [1, 10, 100, 1000]}]\n",
    "    clf_svm = GridSearchCV(SVC(), tuned_parameters, cv=10)\n",
    "    best_model_svm=clf_svm.fit(X_train_sm,y_train_sm)\n",
    "    svm_train=SVC(kernel='linear',C=best_model_svm.best_params_['C'])\n",
    "    svm_train.fit(X_train_sm,y_train_sm)\n",
    "    print(\"SVM\")\n",
    "    print(classification_report(y_test,svm_train.predict(X_test[selected_feat])))\n",
    "    print(X_test[selected_feat].shape)\n",
    "    print(roc_auc_score(y_test,svm_train.predict(X_test[selected_feat])))\n",
    "    print(\"Random forest\")\n",
    "    rf=RandomForestClassifier(n_estimators=500)\n",
    "    rf.fit(X_train_sm,y_train_sm)\n",
    "    print(classification_report(y_test,rf.predict(X_test[selected_feat])))\n",
    "    print(X_test[selected_feat].shape)\n",
    "    print(roc_auc_score(y_test,rf.predict(X_test[selected_feat])))\n",
    "    print(\"Decision trees\")\n",
    "    dt=DecisionTreeClassifier()\n",
    "    dt.fit(X_train_sm,y_train_sm)\n",
    "    print(classification_report(y_test,dt.predict(X_test[selected_feat])))\n",
    "    print(X_test[selected_feat].shape)\n",
    "    print(roc_auc_score(y_test,rf.predict(X_test[selected_feat])))"
   ]
  },
  {
   "cell_type": "markdown",
   "metadata": {},
   "source": [
    "## Selecting feature using recursive feature elimination"
   ]
  },
  {
   "cell_type": "code",
   "execution_count": 82,
   "metadata": {},
   "outputs": [],
   "source": [
    "def RFECV_analysis(data,labels):\n",
    "    X_train, X_test, y_train, y_test = train_test_split(\n",
    "    data, labels,\n",
    "    test_size=0.3,\n",
    "    random_state=0,stratify=labels)\n",
    "    selector = RFECV(RandomForestClassifier(), step=1, cv=3)\n",
    "    selector.fit(X_train, y_train)\n",
    "    selected_feat=X_train.columns[selector.support_==True]\n",
    "    X_train_reduced=X_train[selected_feat]\n",
    "    \n",
    "    X_train_reduced=X_train[selected_feat]\n",
    "    print(X_train_reduced.shape)\n",
    "    sm = SMOTE(random_state=2)\n",
    "    X_train_sm, y_train_sm = sm.fit_sample(X_train_reduced, y_train)\n",
    "    SVM=SVC(kernel=\"linear\")\n",
    "    tuned_parameters = [{'kernel': ['linear'], 'C': [1, 10, 100, 1000]}]\n",
    "    clf_svm = GridSearchCV(SVC(), tuned_parameters, cv=10)\n",
    "    best_model_svm=clf_svm.fit(X_train_sm,y_train_sm)\n",
    "    svm_train=SVC(kernel='linear',C=best_model_svm.best_params_['C'])\n",
    "    svm_train.fit(X_train_sm,y_train_sm)\n",
    "    print(\"SVM\")\n",
    "    print(classification_report(y_test,svm_train.predict(X_test[selected_feat])))\n",
    "    print(X_test[selected_feat].shape)\n",
    "    print(roc_auc_score(y_test,svm_train.predict(X_test[selected_feat])))\n",
    "    print(\"Random forest\")\n",
    "    rf=RandomForestClassifier(n_estimators=500)\n",
    "    rf.fit(X_train_sm,y_train_sm)\n",
    "    print(classification_report(y_test,rf.predict(X_test[selected_feat])))\n",
    "    print(X_test[selected_feat].shape)\n",
    "    print(roc_auc_score(y_test,rf.predict(X_test[selected_feat])))\n",
    "    print(\"Decision trees\")\n",
    "    dt=DecisionTreeClassifier()\n",
    "    dt.fit(X_train_sm,y_train_sm)\n",
    "    print(classification_report(y_test,dt.predict(X_test[selected_feat])))\n",
    "    print(X_test[selected_feat].shape)\n",
    "    print(roc_auc_score(y_test,rf.predict(X_test[selected_feat])))\n",
    "\n",
    "\n"
   ]
  },
  {
   "cell_type": "code",
   "execution_count": 83,
   "metadata": {},
   "outputs": [
    {
     "name": "stderr",
     "output_type": "stream",
     "text": [
      "/home/shayantan/miniconda3/lib/python3.6/site-packages/sklearn/utils/validation.py:724: DataConversionWarning: A column-vector y was passed when a 1d array was expected. Please change the shape of y to (n_samples, ), for example using ravel().\n",
      "  y = column_or_1d(y, warn=True)\n"
     ]
    },
    {
     "name": "stdout",
     "output_type": "stream",
     "text": [
      "(117, 1996)\n"
     ]
    },
    {
     "name": "stderr",
     "output_type": "stream",
     "text": [
      "/home/shayantan/miniconda3/lib/python3.6/site-packages/sklearn/utils/validation.py:724: DataConversionWarning: A column-vector y was passed when a 1d array was expected. Please change the shape of y to (n_samples, ), for example using ravel().\n",
      "  y = column_or_1d(y, warn=True)\n",
      "/home/shayantan/miniconda3/lib/python3.6/site-packages/sklearn/model_selection/_search.py:814: DeprecationWarning: The default of the `iid` parameter will change from True to False in version 0.22 and will be removed in 0.24. This will change numeric results when test-set sizes are unequal.\n",
      "  DeprecationWarning)\n"
     ]
    },
    {
     "name": "stdout",
     "output_type": "stream",
     "text": [
      "SVM\n",
      "              precision    recall  f1-score   support\n",
      "\n",
      "           0       0.75      0.88      0.81        34\n",
      "           1       0.64      0.41      0.50        17\n",
      "\n",
      "    accuracy                           0.73        51\n",
      "   macro avg       0.69      0.65      0.66        51\n",
      "weighted avg       0.71      0.73      0.71        51\n",
      "\n",
      "(51, 1996)\n",
      "0.6470588235294117\n",
      "Random forest\n",
      "              precision    recall  f1-score   support\n",
      "\n",
      "           0       0.80      0.82      0.81        34\n",
      "           1       0.62      0.59      0.61        17\n",
      "\n",
      "    accuracy                           0.75        51\n",
      "   macro avg       0.71      0.71      0.71        51\n",
      "weighted avg       0.74      0.75      0.74        51\n",
      "\n",
      "(51, 1996)\n",
      "0.7058823529411765\n",
      "Decision trees\n",
      "              precision    recall  f1-score   support\n",
      "\n",
      "           0       0.76      0.74      0.75        34\n",
      "           1       0.50      0.53      0.51        17\n",
      "\n",
      "    accuracy                           0.67        51\n",
      "   macro avg       0.63      0.63      0.63        51\n",
      "weighted avg       0.67      0.67      0.67        51\n",
      "\n",
      "(51, 1996)\n",
      "0.7058823529411765\n"
     ]
    }
   ],
   "source": [
    "RFECV_analysis(gravier,gravier_labels)"
   ]
  },
  {
   "cell_type": "code",
   "execution_count": 85,
   "metadata": {},
   "outputs": [
    {
     "name": "stderr",
     "output_type": "stream",
     "text": [
      "/home/shayantan/miniconda3/lib/python3.6/site-packages/sklearn/utils/validation.py:724: DataConversionWarning: A column-vector y was passed when a 1d array was expected. Please change the shape of y to (n_samples, ), for example using ravel().\n",
      "  y = column_or_1d(y, warn=True)\n",
      "/home/shayantan/miniconda3/lib/python3.6/site-packages/sklearn/utils/validation.py:724: DataConversionWarning: A column-vector y was passed when a 1d array was expected. Please change the shape of y to (n_samples, ), for example using ravel().\n",
      "  y = column_or_1d(y, warn=True)\n",
      "/home/shayantan/miniconda3/lib/python3.6/site-packages/sklearn/model_selection/_search.py:814: DeprecationWarning: The default of the `iid` parameter will change from True to False in version 0.22 and will be removed in 0.24. This will change numeric results when test-set sizes are unequal.\n",
      "  DeprecationWarning)\n"
     ]
    },
    {
     "name": "stdout",
     "output_type": "stream",
     "text": [
      "total features: 2905\n",
      "selected features: 63\n",
      "features with coefficients shrank to zero: 2842\n",
      "(117, 63)\n",
      "SVM\n",
      "              precision    recall  f1-score   support\n",
      "\n",
      "           0       0.79      0.76      0.78        34\n",
      "           1       0.56      0.59      0.57        17\n",
      "\n",
      "    accuracy                           0.71        51\n",
      "   macro avg       0.67      0.68      0.67        51\n",
      "weighted avg       0.71      0.71      0.71        51\n",
      "\n",
      "(51, 63)\n",
      "0.6764705882352942\n",
      "Random forest\n",
      "              precision    recall  f1-score   support\n",
      "\n",
      "           0       0.86      0.88      0.87        34\n",
      "           1       0.75      0.71      0.73        17\n",
      "\n",
      "    accuracy                           0.82        51\n",
      "   macro avg       0.80      0.79      0.80        51\n",
      "weighted avg       0.82      0.82      0.82        51\n",
      "\n",
      "(51, 63)\n",
      "0.7941176470588236\n",
      "Decision trees\n",
      "              precision    recall  f1-score   support\n",
      "\n",
      "           0       0.78      0.85      0.82        34\n",
      "           1       0.64      0.53      0.58        17\n",
      "\n",
      "    accuracy                           0.75        51\n",
      "   macro avg       0.71      0.69      0.70        51\n",
      "weighted avg       0.74      0.75      0.74        51\n",
      "\n",
      "(51, 63)\n",
      "0.7941176470588236\n"
     ]
    }
   ],
   "source": [
    "LASSO(gravier,gravier_labels)"
   ]
  },
  {
   "cell_type": "code",
   "execution_count": 78,
   "metadata": {},
   "outputs": [
    {
     "data": {
      "text/plain": [
       "0    150\n",
       "1     31\n",
       "Name: V1, dtype: int64"
      ]
     },
     "execution_count": 78,
     "metadata": {},
     "output_type": "execute_result"
    }
   ],
   "source": [
    "#importing data and processing labels for further analysis\n",
    "gordon=pd.read_csv('gordon_inputs.csv',header=None)\n",
    "gordon_labels=pd.read_csv('gordon_outputs.csv')\n",
    "gordon_labels['V1']=gordon_labels['V1'].astype('category').cat.codes\n",
    "gordon_labels['V1'].value_counts()"
   ]
  },
  {
   "cell_type": "code",
   "execution_count": 86,
   "metadata": {},
   "outputs": [
    {
     "name": "stderr",
     "output_type": "stream",
     "text": [
      "/home/shayantan/miniconda3/lib/python3.6/site-packages/sklearn/utils/validation.py:724: DataConversionWarning: A column-vector y was passed when a 1d array was expected. Please change the shape of y to (n_samples, ), for example using ravel().\n",
      "  y = column_or_1d(y, warn=True)\n"
     ]
    },
    {
     "name": "stdout",
     "output_type": "stream",
     "text": [
      "(126, 599)\n"
     ]
    },
    {
     "name": "stderr",
     "output_type": "stream",
     "text": [
      "/home/shayantan/miniconda3/lib/python3.6/site-packages/sklearn/utils/validation.py:724: DataConversionWarning: A column-vector y was passed when a 1d array was expected. Please change the shape of y to (n_samples, ), for example using ravel().\n",
      "  y = column_or_1d(y, warn=True)\n"
     ]
    },
    {
     "name": "stdout",
     "output_type": "stream",
     "text": [
      "SVM\n",
      "              precision    recall  f1-score   support\n",
      "\n",
      "           0       0.98      0.98      0.98        46\n",
      "           1       0.89      0.89      0.89         9\n",
      "\n",
      "    accuracy                           0.96        55\n",
      "   macro avg       0.93      0.93      0.93        55\n",
      "weighted avg       0.96      0.96      0.96        55\n",
      "\n",
      "(55, 599)\n",
      "0.9335748792270532\n",
      "Random forest\n",
      "              precision    recall  f1-score   support\n",
      "\n",
      "           0       0.98      1.00      0.99        46\n",
      "           1       1.00      0.89      0.94         9\n",
      "\n",
      "    accuracy                           0.98        55\n",
      "   macro avg       0.99      0.94      0.97        55\n",
      "weighted avg       0.98      0.98      0.98        55\n",
      "\n",
      "(55, 599)\n",
      "0.9444444444444444\n",
      "Decision trees\n",
      "              precision    recall  f1-score   support\n",
      "\n",
      "           0       0.94      0.96      0.95        46\n",
      "           1       0.75      0.67      0.71         9\n",
      "\n",
      "    accuracy                           0.91        55\n",
      "   macro avg       0.84      0.81      0.83        55\n",
      "weighted avg       0.91      0.91      0.91        55\n",
      "\n",
      "(55, 599)\n",
      "0.9444444444444444\n"
     ]
    }
   ],
   "source": [
    "RFECV_analysis(gordon,gordon_labels)"
   ]
  },
  {
   "cell_type": "code",
   "execution_count": 87,
   "metadata": {},
   "outputs": [
    {
     "name": "stderr",
     "output_type": "stream",
     "text": [
      "/home/shayantan/miniconda3/lib/python3.6/site-packages/sklearn/utils/validation.py:724: DataConversionWarning: A column-vector y was passed when a 1d array was expected. Please change the shape of y to (n_samples, ), for example using ravel().\n",
      "  y = column_or_1d(y, warn=True)\n",
      "/home/shayantan/miniconda3/lib/python3.6/site-packages/sklearn/utils/validation.py:724: DataConversionWarning: A column-vector y was passed when a 1d array was expected. Please change the shape of y to (n_samples, ), for example using ravel().\n",
      "  y = column_or_1d(y, warn=True)\n"
     ]
    },
    {
     "name": "stdout",
     "output_type": "stream",
     "text": [
      "total features: 12533\n",
      "selected features: 34\n",
      "features with coefficients shrank to zero: 12499\n",
      "(126, 34)\n",
      "SVM\n",
      "              precision    recall  f1-score   support\n",
      "\n",
      "           0       0.98      1.00      0.99        46\n",
      "           1       1.00      0.89      0.94         9\n",
      "\n",
      "    accuracy                           0.98        55\n",
      "   macro avg       0.99      0.94      0.97        55\n",
      "weighted avg       0.98      0.98      0.98        55\n",
      "\n",
      "(55, 34)\n",
      "0.9444444444444444\n",
      "Random forest\n",
      "              precision    recall  f1-score   support\n",
      "\n",
      "           0       0.98      0.98      0.98        46\n",
      "           1       0.89      0.89      0.89         9\n",
      "\n",
      "    accuracy                           0.96        55\n",
      "   macro avg       0.93      0.93      0.93        55\n",
      "weighted avg       0.96      0.96      0.96        55\n",
      "\n",
      "(55, 34)\n",
      "0.9335748792270532\n",
      "Decision trees\n",
      "              precision    recall  f1-score   support\n",
      "\n",
      "           0       0.98      1.00      0.99        46\n",
      "           1       1.00      0.89      0.94         9\n",
      "\n",
      "    accuracy                           0.98        55\n",
      "   macro avg       0.99      0.94      0.97        55\n",
      "weighted avg       0.98      0.98      0.98        55\n",
      "\n",
      "(55, 34)\n",
      "0.9335748792270532\n"
     ]
    }
   ],
   "source": [
    "LASSO(gordon,gordon_labels)"
   ]
  },
  {
   "cell_type": "code",
   "execution_count": 89,
   "metadata": {},
   "outputs": [
    {
     "data": {
      "text/plain": [
       "0    47\n",
       "1    25\n",
       "Name: V1, dtype: int64"
      ]
     },
     "execution_count": 89,
     "metadata": {},
     "output_type": "execute_result"
    }
   ],
   "source": [
    "#importing data and processing labels for further analysis\n",
    "golub=pd.read_csv('golub_inputs.csv',header=None)\n",
    "golub_labels=pd.read_csv('golub_outputs.csv')\n",
    "golub_labels['V1']=golub_labels['V1'].astype('category').cat.codes\n",
    "golub_labels['V1'].value_counts()"
   ]
  },
  {
   "cell_type": "code",
   "execution_count": 90,
   "metadata": {},
   "outputs": [
    {
     "name": "stderr",
     "output_type": "stream",
     "text": [
      "/home/shayantan/miniconda3/lib/python3.6/site-packages/sklearn/utils/validation.py:724: DataConversionWarning: A column-vector y was passed when a 1d array was expected. Please change the shape of y to (n_samples, ), for example using ravel().\n",
      "  y = column_or_1d(y, warn=True)\n"
     ]
    },
    {
     "name": "stdout",
     "output_type": "stream",
     "text": [
      "(50, 4021)\n"
     ]
    },
    {
     "name": "stderr",
     "output_type": "stream",
     "text": [
      "/home/shayantan/miniconda3/lib/python3.6/site-packages/sklearn/utils/validation.py:724: DataConversionWarning: A column-vector y was passed when a 1d array was expected. Please change the shape of y to (n_samples, ), for example using ravel().\n",
      "  y = column_or_1d(y, warn=True)\n",
      "/home/shayantan/miniconda3/lib/python3.6/site-packages/sklearn/model_selection/_search.py:814: DeprecationWarning: The default of the `iid` parameter will change from True to False in version 0.22 and will be removed in 0.24. This will change numeric results when test-set sizes are unequal.\n",
      "  DeprecationWarning)\n"
     ]
    },
    {
     "name": "stdout",
     "output_type": "stream",
     "text": [
      "SVM\n",
      "              precision    recall  f1-score   support\n",
      "\n",
      "           0       0.93      1.00      0.97        14\n",
      "           1       1.00      0.88      0.93         8\n",
      "\n",
      "    accuracy                           0.95        22\n",
      "   macro avg       0.97      0.94      0.95        22\n",
      "weighted avg       0.96      0.95      0.95        22\n",
      "\n",
      "(22, 4021)\n",
      "0.9375\n",
      "Random forest\n",
      "              precision    recall  f1-score   support\n",
      "\n",
      "           0       0.93      1.00      0.97        14\n",
      "           1       1.00      0.88      0.93         8\n",
      "\n",
      "    accuracy                           0.95        22\n",
      "   macro avg       0.97      0.94      0.95        22\n",
      "weighted avg       0.96      0.95      0.95        22\n",
      "\n",
      "(22, 4021)\n",
      "0.9375\n",
      "Decision trees\n",
      "              precision    recall  f1-score   support\n",
      "\n",
      "           0       0.87      0.93      0.90        14\n",
      "           1       0.86      0.75      0.80         8\n",
      "\n",
      "    accuracy                           0.86        22\n",
      "   macro avg       0.86      0.84      0.85        22\n",
      "weighted avg       0.86      0.86      0.86        22\n",
      "\n",
      "(22, 4021)\n",
      "0.9375\n"
     ]
    }
   ],
   "source": [
    "RFECV_analysis(golub,golub_labels)"
   ]
  },
  {
   "cell_type": "code",
   "execution_count": 91,
   "metadata": {},
   "outputs": [
    {
     "name": "stdout",
     "output_type": "stream",
     "text": [
      "total features: 7129\n",
      "selected features: 25\n",
      "features with coefficients shrank to zero: 7104\n",
      "(50, 25)\n"
     ]
    },
    {
     "name": "stderr",
     "output_type": "stream",
     "text": [
      "/home/shayantan/miniconda3/lib/python3.6/site-packages/sklearn/utils/validation.py:724: DataConversionWarning: A column-vector y was passed when a 1d array was expected. Please change the shape of y to (n_samples, ), for example using ravel().\n",
      "  y = column_or_1d(y, warn=True)\n",
      "/home/shayantan/miniconda3/lib/python3.6/site-packages/sklearn/utils/validation.py:724: DataConversionWarning: A column-vector y was passed when a 1d array was expected. Please change the shape of y to (n_samples, ), for example using ravel().\n",
      "  y = column_or_1d(y, warn=True)\n"
     ]
    },
    {
     "name": "stdout",
     "output_type": "stream",
     "text": [
      "SVM\n",
      "              precision    recall  f1-score   support\n",
      "\n",
      "           0       0.82      1.00      0.90        14\n",
      "           1       1.00      0.62      0.77         8\n",
      "\n",
      "    accuracy                           0.86        22\n",
      "   macro avg       0.91      0.81      0.84        22\n",
      "weighted avg       0.89      0.86      0.85        22\n",
      "\n",
      "(22, 25)\n",
      "0.8125\n",
      "Random forest\n",
      "              precision    recall  f1-score   support\n",
      "\n",
      "           0       0.93      1.00      0.97        14\n",
      "           1       1.00      0.88      0.93         8\n",
      "\n",
      "    accuracy                           0.95        22\n",
      "   macro avg       0.97      0.94      0.95        22\n",
      "weighted avg       0.96      0.95      0.95        22\n",
      "\n",
      "(22, 25)\n",
      "0.9375\n",
      "Decision trees\n",
      "              precision    recall  f1-score   support\n",
      "\n",
      "           0       0.93      0.93      0.93        14\n",
      "           1       0.88      0.88      0.88         8\n",
      "\n",
      "    accuracy                           0.91        22\n",
      "   macro avg       0.90      0.90      0.90        22\n",
      "weighted avg       0.91      0.91      0.91        22\n",
      "\n",
      "(22, 25)\n",
      "0.9375\n"
     ]
    }
   ],
   "source": [
    "LASSO(golub,golub_labels)"
   ]
  },
  {
   "cell_type": "code",
   "execution_count": 92,
   "metadata": {},
   "outputs": [
    {
     "data": {
      "text/plain": [
       "1    40\n",
       "0    22\n",
       "Name: V1, dtype: int64"
      ]
     },
     "execution_count": 92,
     "metadata": {},
     "output_type": "execute_result"
    }
   ],
   "source": [
    "#importing data and processing labels for further analysis\n",
    "alon=pd.read_csv('alon_inputs.csv',header=None)\n",
    "alon_labels=pd.read_csv('alon_outputs.csv')\n",
    "alon_labels['V1']=alon_labels['V1'].astype('category').cat.codes\n",
    "alon_labels['V1'].value_counts()"
   ]
  },
  {
   "cell_type": "code",
   "execution_count": 94,
   "metadata": {},
   "outputs": [
    {
     "name": "stderr",
     "output_type": "stream",
     "text": [
      "/home/shayantan/miniconda3/lib/python3.6/site-packages/sklearn/utils/validation.py:724: DataConversionWarning: A column-vector y was passed when a 1d array was expected. Please change the shape of y to (n_samples, ), for example using ravel().\n",
      "  y = column_or_1d(y, warn=True)\n",
      "/home/shayantan/miniconda3/lib/python3.6/site-packages/sklearn/utils/validation.py:724: DataConversionWarning: A column-vector y was passed when a 1d array was expected. Please change the shape of y to (n_samples, ), for example using ravel().\n",
      "  y = column_or_1d(y, warn=True)\n",
      "/home/shayantan/miniconda3/lib/python3.6/site-packages/sklearn/model_selection/_search.py:814: DeprecationWarning: The default of the `iid` parameter will change from True to False in version 0.22 and will be removed in 0.24. This will change numeric results when test-set sizes are unequal.\n",
      "  DeprecationWarning)\n"
     ]
    },
    {
     "name": "stdout",
     "output_type": "stream",
     "text": [
      "total features: 2000\n",
      "selected features: 23\n",
      "features with coefficients shrank to zero: 1977\n",
      "(43, 23)\n",
      "SVM\n",
      "              precision    recall  f1-score   support\n",
      "\n",
      "           0       0.83      0.71      0.77         7\n",
      "           1       0.85      0.92      0.88        12\n",
      "\n",
      "    accuracy                           0.84        19\n",
      "   macro avg       0.84      0.82      0.82        19\n",
      "weighted avg       0.84      0.84      0.84        19\n",
      "\n",
      "(19, 23)\n",
      "0.8154761904761905\n",
      "Random forest\n",
      "              precision    recall  f1-score   support\n",
      "\n",
      "           0       0.78      1.00      0.88         7\n",
      "           1       1.00      0.83      0.91        12\n",
      "\n",
      "    accuracy                           0.89        19\n",
      "   macro avg       0.89      0.92      0.89        19\n",
      "weighted avg       0.92      0.89      0.90        19\n",
      "\n",
      "(19, 23)\n",
      "0.9166666666666667\n",
      "Decision trees\n",
      "              precision    recall  f1-score   support\n",
      "\n",
      "           0       0.88      1.00      0.93         7\n",
      "           1       1.00      0.92      0.96        12\n",
      "\n",
      "    accuracy                           0.95        19\n",
      "   macro avg       0.94      0.96      0.94        19\n",
      "weighted avg       0.95      0.95      0.95        19\n",
      "\n",
      "(19, 23)\n",
      "0.9166666666666667\n"
     ]
    }
   ],
   "source": [
    "LASSO(alon,alon_labels)"
   ]
  },
  {
   "cell_type": "code",
   "execution_count": 95,
   "metadata": {},
   "outputs": [
    {
     "name": "stderr",
     "output_type": "stream",
     "text": [
      "/home/shayantan/miniconda3/lib/python3.6/site-packages/sklearn/utils/validation.py:724: DataConversionWarning: A column-vector y was passed when a 1d array was expected. Please change the shape of y to (n_samples, ), for example using ravel().\n",
      "  y = column_or_1d(y, warn=True)\n"
     ]
    },
    {
     "name": "stdout",
     "output_type": "stream",
     "text": [
      "(43, 286)\n",
      "SVM\n",
      "              precision    recall  f1-score   support\n",
      "\n",
      "           0       0.60      0.43      0.50         7\n",
      "           1       0.71      0.83      0.77        12\n",
      "\n",
      "    accuracy                           0.68        19\n",
      "   macro avg       0.66      0.63      0.63        19\n",
      "weighted avg       0.67      0.68      0.67        19\n",
      "\n",
      "(19, 286)\n",
      "0.6309523809523809\n",
      "Random forest\n"
     ]
    },
    {
     "name": "stderr",
     "output_type": "stream",
     "text": [
      "/home/shayantan/miniconda3/lib/python3.6/site-packages/sklearn/utils/validation.py:724: DataConversionWarning: A column-vector y was passed when a 1d array was expected. Please change the shape of y to (n_samples, ), for example using ravel().\n",
      "  y = column_or_1d(y, warn=True)\n",
      "/home/shayantan/miniconda3/lib/python3.6/site-packages/sklearn/model_selection/_search.py:814: DeprecationWarning: The default of the `iid` parameter will change from True to False in version 0.22 and will be removed in 0.24. This will change numeric results when test-set sizes are unequal.\n",
      "  DeprecationWarning)\n"
     ]
    },
    {
     "name": "stdout",
     "output_type": "stream",
     "text": [
      "              precision    recall  f1-score   support\n",
      "\n",
      "           0       0.86      0.86      0.86         7\n",
      "           1       0.92      0.92      0.92        12\n",
      "\n",
      "    accuracy                           0.89        19\n",
      "   macro avg       0.89      0.89      0.89        19\n",
      "weighted avg       0.89      0.89      0.89        19\n",
      "\n",
      "(19, 286)\n",
      "0.8869047619047619\n",
      "Decision trees\n",
      "              precision    recall  f1-score   support\n",
      "\n",
      "           0       0.50      1.00      0.67         7\n",
      "           1       1.00      0.42      0.59        12\n",
      "\n",
      "    accuracy                           0.63        19\n",
      "   macro avg       0.75      0.71      0.63        19\n",
      "weighted avg       0.82      0.63      0.62        19\n",
      "\n",
      "(19, 286)\n",
      "0.8869047619047619\n"
     ]
    }
   ],
   "source": [
    "RFECV_analysis(alon,alon_labels)"
   ]
  },
  {
   "cell_type": "code",
   "execution_count": null,
   "metadata": {},
   "outputs": [],
   "source": []
  }
 ],
 "metadata": {
  "kernelspec": {
   "display_name": "Python 3",
   "language": "python",
   "name": "python3"
  },
  "language_info": {
   "codemirror_mode": {
    "name": "ipython",
    "version": 3
   },
   "file_extension": ".py",
   "mimetype": "text/x-python",
   "name": "python",
   "nbconvert_exporter": "python",
   "pygments_lexer": "ipython3",
   "version": "3.6.8"
  }
 },
 "nbformat": 4,
 "nbformat_minor": 2
}
